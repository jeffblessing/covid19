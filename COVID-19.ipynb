{
 "cells": [
  {
   "cell_type": "markdown",
   "metadata": {},
   "source": [
    "# COVID-19 Dataset (updated roughly twice, daily)\n",
    "by *Jeffrey Blessing, Ph.D.* (blessing@msoe.edu or Dr.Jeffrey.Blessing@gmail.com)\n",
    "## Open access epidemiological data from the COVID-19 outbreak\n",
    "Coronavirus disease 2019 (COVID-19) is spreading rapidly around the world.  The availability of accurate and robust epidemiological, clinical, and laboratory data early in an epidemic is important to guide public health decision-making.  Consistent recording of epidemiological information is important to understand transmissibility, risk of geographic spread, routes of transmission, and risk factors for infection, and to provide the baseline for epidemiological modeling that can inform planning of response and containment efforts to reduce the burden of disease.  This Jupyter notebook was created to encourage data scientists, familiar with Python tools for data analysis, to collaborate on discovering insights from COVID-19 data.\n",
    "\n",
    "My thanks to the Open COVID-19 Data Curation Group (below) for posting the data on GitHub.com\n",
    "\n",
    "*Attribution to*: Bo Xu, Moritz U G Kraemer, on behalf of the Open COVID-19 Data Curation Group \n",
    "moritz.kraemer@zoo.ox.ac.uk\n",
    "Department of Zoology,\n",
    "University of Oxford, \n",
    "Oxford OX1 3SZ, UK\n",
    "\n",
    "**Note**: The uniform resource identifier (URI) to the __*metadata*__ is, oddly, stored on GitHub as a comma-separated values (CSV) file.  Its URI is: https://github.com/beoutbreakprepared/nCoV2019/blob/master/latest_data/latestdata.csv.  The URI to the __*raw, CSV data*__ is in the first code cell below.  (You may need to install `wget` on your local machine to fetch the data.  Wget for the Windows operating system can be downloaded and installed from: https://eternallybored.org/misc/wget/.  However, be sure to get the 64-bit version if you're running Windows Vista, 8 or 10; otherwise install the 32-bit version.)  Users on Unix/Linux systems should be good to go!\n",
    "\n",
    "Let's see what we can do with this data in real time!\n",
    "\n",
    "First, I'll use a `wget` command below to fetch the latest *.csv* data from GitHub.com.  But wait!  The authors have changed the way they upload their data.  Now I must browser the following URI and manually download the tarball (*.tar.gz*) and extract the latest data with 7-zip:  https://github.com/beoutbreakprepared/nCoV2019/tree/master/latest_data"
   ]
  },
  {
   "cell_type": "code",
   "execution_count": 5,
   "metadata": {},
   "outputs": [
    {
     "name": "stderr",
     "output_type": "stream",
     "text": [
      "https://raw.githubusercontent.com/beoutbreakprepared/nCoV2019/master/latest_data/latestdata.csv:\n",
      "2020-05-08 18:00:09 ERROR 404: Not Found.\n"
     ]
    }
   ],
   "source": [
    "import numpy as np\n",
    "import pandas as pd\n",
    "\n",
    "# Downloading the dataset to a local file no longer works!  Use Lancet article URI to find tarball on GitHub.\n",
    "#!wget -nv -O covid-19.csv https://raw.githubusercontent.com/beoutbreakprepared/nCoV2019/master/latest_data/latestdata.csv"
   ]
  },
  {
   "cell_type": "markdown",
   "metadata": {},
   "source": [
    "**Note**:  Only run the above command once/day to update your local covid-19.csv data file.\n",
    "\n",
    "Next, let's import the spreadsheet data into a pandas data frame."
   ]
  },
  {
   "cell_type": "code",
   "execution_count": 14,
   "metadata": {},
   "outputs": [
    {
     "name": "stdout",
     "output_type": "stream",
     "text": [
      "The dimensions (#rows, #cols) of the data frame are: (549325, 33)\n"
     ]
    }
   ],
   "source": [
    "# Parse the CSV data into a pandas data frame\n",
    "df = pd.read_csv(\"latestdata.csv\", low_memory=False)\n",
    "print('The dimensions (#rows, #cols) of the data frame are:', df.shape)"
   ]
  },
  {
   "cell_type": "markdown",
   "metadata": {},
   "source": [
    "Let's filter out blank rows, columns and remove duplicate rows from the data set"
   ]
  },
  {
   "cell_type": "code",
   "execution_count": 15,
   "metadata": {},
   "outputs": [
    {
     "name": "stdout",
     "output_type": "stream",
     "text": [
      "After dropping empty rows, cols and duplicates, data frame dimensions are: (549325, 33)\n"
     ]
    }
   ],
   "source": [
    "df.dropna(how='all')   # drops only blank rows\n",
    "df.dropna(axis=1, how='all')   # drops only blank cols\n",
    "df.drop_duplicates()   # drops identical rows\n",
    "print('After dropping empty rows, cols and duplicates, data frame dimensions are:', df.shape)"
   ]
  },
  {
   "cell_type": "markdown",
   "metadata": {},
   "source": [
    "Hmmm, no data was eliminated by the above filtering.  Okay, let's group data by country and city to see how many locations of outbreak we're dealing with:"
   ]
  },
  {
   "cell_type": "code",
   "execution_count": 16,
   "metadata": {},
   "outputs": [
    {
     "data": {
      "text/plain": [
       "country   city                                 \n",
       "Algeria   Adrar                                      3\n",
       "          Ain Defla                                 31\n",
       "          Ain Temouchent                             7\n",
       "          Alger                                    181\n",
       "          Algiers                                   21\n",
       "                                                  ... \n",
       "Vietnam   Thien Ke commune, Binh Xuyen District      2\n",
       "Zimbabwe  Bulawayo                                  10\n",
       "          Harare                                    16\n",
       "          Mhondoro                                   3\n",
       "          Victoria Falls                             1\n",
       "Length: 3785, dtype: int64"
      ]
     },
     "execution_count": 16,
     "metadata": {},
     "output_type": "execute_result"
    }
   ],
   "source": [
    "df.groupby(['country', 'city']).size()"
   ]
  },
  {
   "cell_type": "markdown",
   "metadata": {},
   "source": [
    "Let's run a quick describe() on our data frame:"
   ]
  },
  {
   "cell_type": "code",
   "execution_count": 17,
   "metadata": {},
   "outputs": [
    {
     "data": {
      "text/html": [
       "<div>\n",
       "<style scoped>\n",
       "    .dataframe tbody tr th:only-of-type {\n",
       "        vertical-align: middle;\n",
       "    }\n",
       "\n",
       "    .dataframe tbody tr th {\n",
       "        vertical-align: top;\n",
       "    }\n",
       "\n",
       "    .dataframe thead th {\n",
       "        text-align: right;\n",
       "    }\n",
       "</style>\n",
       "<table border=\"1\" class=\"dataframe\">\n",
       "  <thead>\n",
       "    <tr style=\"text-align: right;\">\n",
       "      <th></th>\n",
       "      <th>latitude</th>\n",
       "      <th>longitude</th>\n",
       "      <th>admin_id</th>\n",
       "    </tr>\n",
       "  </thead>\n",
       "  <tbody>\n",
       "    <tr>\n",
       "      <th>count</th>\n",
       "      <td>549275.000000</td>\n",
       "      <td>549275.000000</td>\n",
       "      <td>549275.000000</td>\n",
       "    </tr>\n",
       "    <tr>\n",
       "      <th>mean</th>\n",
       "      <td>40.984042</td>\n",
       "      <td>2.849269</td>\n",
       "      <td>4992.796843</td>\n",
       "    </tr>\n",
       "    <tr>\n",
       "      <th>std</th>\n",
       "      <td>15.782018</td>\n",
       "      <td>60.705855</td>\n",
       "      <td>3596.692949</td>\n",
       "    </tr>\n",
       "    <tr>\n",
       "      <th>min</th>\n",
       "      <td>-54.000000</td>\n",
       "      <td>-159.727596</td>\n",
       "      <td>1.000000</td>\n",
       "    </tr>\n",
       "    <tr>\n",
       "      <th>25%</th>\n",
       "      <td>39.415022</td>\n",
       "      <td>-64.183333</td>\n",
       "      <td>887.000000</td>\n",
       "    </tr>\n",
       "    <tr>\n",
       "      <th>50%</th>\n",
       "      <td>44.036955</td>\n",
       "      <td>9.994373</td>\n",
       "      <td>6195.000000</td>\n",
       "    </tr>\n",
       "    <tr>\n",
       "      <th>75%</th>\n",
       "      <td>48.048180</td>\n",
       "      <td>37.617300</td>\n",
       "      <td>7726.000000</td>\n",
       "    </tr>\n",
       "    <tr>\n",
       "      <th>max</th>\n",
       "      <td>70.071800</td>\n",
       "      <td>174.740000</td>\n",
       "      <td>10988.000000</td>\n",
       "    </tr>\n",
       "  </tbody>\n",
       "</table>\n",
       "</div>"
      ],
      "text/plain": [
       "            latitude      longitude       admin_id\n",
       "count  549275.000000  549275.000000  549275.000000\n",
       "mean       40.984042       2.849269    4992.796843\n",
       "std        15.782018      60.705855    3596.692949\n",
       "min       -54.000000    -159.727596       1.000000\n",
       "25%        39.415022     -64.183333     887.000000\n",
       "50%        44.036955       9.994373    6195.000000\n",
       "75%        48.048180      37.617300    7726.000000\n",
       "max        70.071800     174.740000   10988.000000"
      ]
     },
     "execution_count": 17,
     "metadata": {},
     "output_type": "execute_result"
    }
   ],
   "source": [
    "df.describe()"
   ]
  },
  {
   "cell_type": "markdown",
   "metadata": {},
   "source": [
    "Only 3 numeric columns!  Looks like the rest are string data fields.  Let's describe the string fields with a new query:"
   ]
  },
  {
   "cell_type": "code",
   "execution_count": 18,
   "metadata": {},
   "outputs": [
    {
     "data": {
      "text/html": [
       "<div>\n",
       "<style scoped>\n",
       "    .dataframe tbody tr th:only-of-type {\n",
       "        vertical-align: middle;\n",
       "    }\n",
       "\n",
       "    .dataframe tbody tr th {\n",
       "        vertical-align: top;\n",
       "    }\n",
       "\n",
       "    .dataframe thead th {\n",
       "        text-align: right;\n",
       "    }\n",
       "</style>\n",
       "<table border=\"1\" class=\"dataframe\">\n",
       "  <thead>\n",
       "    <tr style=\"text-align: right;\">\n",
       "      <th></th>\n",
       "      <th>ID</th>\n",
       "      <th>age</th>\n",
       "      <th>sex</th>\n",
       "      <th>city</th>\n",
       "      <th>province</th>\n",
       "      <th>country</th>\n",
       "      <th>geo_resolution</th>\n",
       "      <th>date_onset_symptoms</th>\n",
       "      <th>date_admission_hospital</th>\n",
       "      <th>date_confirmation</th>\n",
       "      <th>...</th>\n",
       "      <th>outcome</th>\n",
       "      <th>date_death_or_discharge</th>\n",
       "      <th>notes_for_discussion</th>\n",
       "      <th>location</th>\n",
       "      <th>admin3</th>\n",
       "      <th>admin2</th>\n",
       "      <th>admin1</th>\n",
       "      <th>country_new</th>\n",
       "      <th>data_moderator_initials</th>\n",
       "      <th>travel_history_binary</th>\n",
       "    </tr>\n",
       "  </thead>\n",
       "  <tbody>\n",
       "    <tr>\n",
       "      <th>count</th>\n",
       "      <td>549325</td>\n",
       "      <td>18102</td>\n",
       "      <td>16777</td>\n",
       "      <td>403801</td>\n",
       "      <td>528582</td>\n",
       "      <td>549223</td>\n",
       "      <td>549275</td>\n",
       "      <td>4267</td>\n",
       "      <td>1862</td>\n",
       "      <td>546470</td>\n",
       "      <td>...</td>\n",
       "      <td>2745</td>\n",
       "      <td>507</td>\n",
       "      <td>1852</td>\n",
       "      <td>7542</td>\n",
       "      <td>9188</td>\n",
       "      <td>318425</td>\n",
       "      <td>454917</td>\n",
       "      <td>525661</td>\n",
       "      <td>296658</td>\n",
       "      <td>483850</td>\n",
       "    </tr>\n",
       "    <tr>\n",
       "      <th>unique</th>\n",
       "      <td>549325</td>\n",
       "      <td>1482</td>\n",
       "      <td>2</td>\n",
       "      <td>3764</td>\n",
       "      <td>842</td>\n",
       "      <td>154</td>\n",
       "      <td>7</td>\n",
       "      <td>105</td>\n",
       "      <td>82</td>\n",
       "      <td>137</td>\n",
       "      <td>...</td>\n",
       "      <td>98</td>\n",
       "      <td>77</td>\n",
       "      <td>190</td>\n",
       "      <td>344</td>\n",
       "      <td>407</td>\n",
       "      <td>1907</td>\n",
       "      <td>467</td>\n",
       "      <td>150</td>\n",
       "      <td>11</td>\n",
       "      <td>2</td>\n",
       "    </tr>\n",
       "    <tr>\n",
       "      <th>top</th>\n",
       "      <td>007-210260</td>\n",
       "      <td>50-59</td>\n",
       "      <td>male</td>\n",
       "      <td>Moscow</td>\n",
       "      <td>Central</td>\n",
       "      <td>Italy</td>\n",
       "      <td>admin2</td>\n",
       "      <td>23.03.2020</td>\n",
       "      <td>30.01.2020</td>\n",
       "      <td>23.03.2020</td>\n",
       "      <td>...</td>\n",
       "      <td>Under treatment</td>\n",
       "      <td>18.02.2020</td>\n",
       "      <td>Hospitalized</td>\n",
       "      <td>Chicago</td>\n",
       "      <td>Birmingham</td>\n",
       "      <td>Moscow</td>\n",
       "      <td>Central</td>\n",
       "      <td>Italy</td>\n",
       "      <td>TR</td>\n",
       "      <td>False</td>\n",
       "    </tr>\n",
       "    <tr>\n",
       "      <th>freq</th>\n",
       "      <td>1</td>\n",
       "      <td>534</td>\n",
       "      <td>9446</td>\n",
       "      <td>50553</td>\n",
       "      <td>70610</td>\n",
       "      <td>157733</td>\n",
       "      <td>326879</td>\n",
       "      <td>140</td>\n",
       "      <td>90</td>\n",
       "      <td>33354</td>\n",
       "      <td>...</td>\n",
       "      <td>359</td>\n",
       "      <td>22</td>\n",
       "      <td>1247</td>\n",
       "      <td>985</td>\n",
       "      <td>309</td>\n",
       "      <td>50551</td>\n",
       "      <td>68540</td>\n",
       "      <td>157733</td>\n",
       "      <td>293266</td>\n",
       "      <td>460229</td>\n",
       "    </tr>\n",
       "  </tbody>\n",
       "</table>\n",
       "<p>4 rows × 29 columns</p>\n",
       "</div>"
      ],
      "text/plain": [
       "                ID    age    sex    city province country geo_resolution  \\\n",
       "count       549325  18102  16777  403801   528582  549223         549275   \n",
       "unique      549325   1482      2    3764      842     154              7   \n",
       "top     007-210260  50-59   male  Moscow  Central   Italy         admin2   \n",
       "freq             1    534   9446   50553    70610  157733         326879   \n",
       "\n",
       "       date_onset_symptoms date_admission_hospital date_confirmation  ...  \\\n",
       "count                 4267                    1862            546470  ...   \n",
       "unique                 105                      82               137  ...   \n",
       "top             23.03.2020              30.01.2020        23.03.2020  ...   \n",
       "freq                   140                      90             33354  ...   \n",
       "\n",
       "                outcome date_death_or_discharge notes_for_discussion location  \\\n",
       "count              2745                     507                 1852     7542   \n",
       "unique               98                      77                  190      344   \n",
       "top     Under treatment              18.02.2020         Hospitalized  Chicago   \n",
       "freq                359                      22                 1247      985   \n",
       "\n",
       "            admin3  admin2   admin1 country_new data_moderator_initials  \\\n",
       "count         9188  318425   454917      525661                  296658   \n",
       "unique         407    1907      467         150                      11   \n",
       "top     Birmingham  Moscow  Central       Italy                      TR   \n",
       "freq           309   50551    68540      157733                  293266   \n",
       "\n",
       "       travel_history_binary  \n",
       "count                 483850  \n",
       "unique                     2  \n",
       "top                    False  \n",
       "freq                  460229  \n",
       "\n",
       "[4 rows x 29 columns]"
      ]
     },
     "execution_count": 18,
     "metadata": {},
     "output_type": "execute_result"
    }
   ],
   "source": [
    "df.describe(include = ['O'])   # only describes columns that hold string objects"
   ]
  },
  {
   "cell_type": "markdown",
   "metadata": {},
   "source": [
    "Let's see what data types we have for each column in our data frame:"
   ]
  },
  {
   "cell_type": "code",
   "execution_count": 19,
   "metadata": {},
   "outputs": [
    {
     "data": {
      "text/plain": [
       "ID                           object\n",
       "age                          object\n",
       "sex                          object\n",
       "city                         object\n",
       "province                     object\n",
       "country                      object\n",
       "latitude                    float64\n",
       "longitude                   float64\n",
       "geo_resolution               object\n",
       "date_onset_symptoms          object\n",
       "date_admission_hospital      object\n",
       "date_confirmation            object\n",
       "symptoms                     object\n",
       "lives_in_Wuhan               object\n",
       "travel_history_dates         object\n",
       "travel_history_location      object\n",
       "reported_market_exposure     object\n",
       "additional_information       object\n",
       "chronic_disease_binary         bool\n",
       "chronic_disease              object\n",
       "source                       object\n",
       "sequence_available           object\n",
       "outcome                      object\n",
       "date_death_or_discharge      object\n",
       "notes_for_discussion         object\n",
       "location                     object\n",
       "admin3                       object\n",
       "admin2                       object\n",
       "admin1                       object\n",
       "country_new                  object\n",
       "admin_id                    float64\n",
       "data_moderator_initials      object\n",
       "travel_history_binary        object\n",
       "dtype: object"
      ]
     },
     "execution_count": 19,
     "metadata": {},
     "output_type": "execute_result"
    }
   ],
   "source": [
    "df.dtypes"
   ]
  }
 ],
 "metadata": {
  "kernelspec": {
   "display_name": "Python 3",
   "language": "python",
   "name": "python3"
  },
  "language_info": {
   "codemirror_mode": {
    "name": "ipython",
    "version": 3
   },
   "file_extension": ".py",
   "mimetype": "text/x-python",
   "name": "python",
   "nbconvert_exporter": "python",
   "pygments_lexer": "ipython3",
   "version": "3.7.6"
  }
 },
 "nbformat": 4,
 "nbformat_minor": 4
}
